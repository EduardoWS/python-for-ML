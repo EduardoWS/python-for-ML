{
  "nbformat": 4,
  "nbformat_minor": 0,
  "metadata": {
    "colab": {
      "provenance": [],
      "authorship_tag": "ABX9TyNfVgfo1IovN6YapixrBEVl",
      "include_colab_link": true
    },
    "kernelspec": {
      "name": "python3",
      "display_name": "Python 3"
    },
    "language_info": {
      "name": "python"
    }
  },
  "cells": [
    {
      "cell_type": "markdown",
      "metadata": {
        "id": "view-in-github",
        "colab_type": "text"
      },
      "source": [
        "<a href=\"https://colab.research.google.com/github/EduardoWS/python-for-ML/blob/main/dicionario.ipynb\" target=\"_parent\"><img src=\"https://colab.research.google.com/assets/colab-badge.svg\" alt=\"Open In Colab\"/></a>"
      ]
    },
    {
      "cell_type": "markdown",
      "source": [
        "# Dicionário"
      ],
      "metadata": {
        "id": "u5TfYy_YYZgY"
      }
    },
    {
      "cell_type": "markdown",
      "source": [
        "\n",
        "\n",
        "```\n",
        "d = {chave:valor}\n",
        "d['chave']\n",
        "```\n",
        "\n"
      ],
      "metadata": {
        "id": "MJv1fOiOYwd-"
      }
    },
    {
      "cell_type": "code",
      "source": [
        "d = {'Curso':'Python para ML',\n",
        "     'Produtor':'Didática Tech',\n",
        "     'Nota':10}\n",
        "\n",
        "print(d['Curso'])\n",
        "print(d['Nota'])"
      ],
      "metadata": {
        "colab": {
          "base_uri": "https://localhost:8080/"
        },
        "id": "M0mieqvSY8d-",
        "outputId": "4511a05d-a70b-4707-a6bb-f14c58e5395f"
      },
      "execution_count": 8,
      "outputs": [
        {
          "output_type": "stream",
          "name": "stdout",
          "text": [
            "Python para ML\n",
            "10\n"
          ]
        }
      ]
    },
    {
      "cell_type": "markdown",
      "source": [
        "<hr>"
      ],
      "metadata": {
        "id": "nkw80aUIcE9B"
      }
    },
    {
      "cell_type": "markdown",
      "source": [
        "### Adicionando/removendo uma nova chave e valor"
      ],
      "metadata": {
        "id": "NUwk7XSZb9E6"
      }
    },
    {
      "cell_type": "code",
      "source": [
        "d['Requisito'] = 'Python Básico'\n",
        "\n",
        "print(d)"
      ],
      "metadata": {
        "colab": {
          "base_uri": "https://localhost:8080/"
        },
        "id": "GJPzA8xdcB45",
        "outputId": "245f102f-7755-4b88-a496-1150891f2dbe"
      },
      "execution_count": 9,
      "outputs": [
        {
          "output_type": "stream",
          "name": "stdout",
          "text": [
            "{'Curso': 'Python para ML', 'Produtor': 'Didática Tech', 'Nota': 10, 'Requisito': 'Python Básico'}\n"
          ]
        }
      ]
    },
    {
      "cell_type": "code",
      "source": [
        "del d['Curso']"
      ],
      "metadata": {
        "id": "GMEFrryEclAY"
      },
      "execution_count": 11,
      "outputs": []
    },
    {
      "cell_type": "code",
      "source": [
        "print(d)"
      ],
      "metadata": {
        "colab": {
          "base_uri": "https://localhost:8080/"
        },
        "id": "4TD1XpU9c2m2",
        "outputId": "e8156669-93fd-4f70-cb1b-ba23a077224c"
      },
      "execution_count": 12,
      "outputs": [
        {
          "output_type": "stream",
          "name": "stdout",
          "text": [
            "{'Produtor': 'Didática Tech', 'Nota': 10, 'Requisito': 'Python Básico'}\n"
          ]
        }
      ]
    },
    {
      "cell_type": "markdown",
      "source": [
        "<hr>"
      ],
      "metadata": {
        "id": "lqSz8T_ZdZUV"
      }
    },
    {
      "cell_type": "markdown",
      "source": [
        "### Outros comandos"
      ],
      "metadata": {
        "id": "R83DFRiYdVdW"
      }
    },
    {
      "cell_type": "code",
      "source": [
        "d.keys()"
      ],
      "metadata": {
        "colab": {
          "base_uri": "https://localhost:8080/"
        },
        "id": "fFgdKKiodX-m",
        "outputId": "f616b4df-0ece-4896-9b97-068712365011"
      },
      "execution_count": 13,
      "outputs": [
        {
          "output_type": "execute_result",
          "data": {
            "text/plain": [
              "dict_keys(['Produtor', 'Nota', 'Requisito'])"
            ]
          },
          "metadata": {},
          "execution_count": 13
        }
      ]
    },
    {
      "cell_type": "code",
      "source": [
        "d.values()"
      ],
      "metadata": {
        "colab": {
          "base_uri": "https://localhost:8080/"
        },
        "id": "MvqSAtCldz_t",
        "outputId": "afa44659-7b23-4a8e-9a2b-75b11152d6df"
      },
      "execution_count": 14,
      "outputs": [
        {
          "output_type": "execute_result",
          "data": {
            "text/plain": [
              "dict_values(['Didática Tech', 10, 'Python Básico'])"
            ]
          },
          "metadata": {},
          "execution_count": 14
        }
      ]
    },
    {
      "cell_type": "code",
      "source": [
        "d.items()"
      ],
      "metadata": {
        "colab": {
          "base_uri": "https://localhost:8080/"
        },
        "id": "9qBIwq_rd4tN",
        "outputId": "04f37429-fb73-4f27-d47d-6bd936d17d16"
      },
      "execution_count": 15,
      "outputs": [
        {
          "output_type": "execute_result",
          "data": {
            "text/plain": [
              "dict_items([('Produtor', 'Didática Tech'), ('Nota', 10), ('Requisito', 'Python Básico')])"
            ]
          },
          "metadata": {},
          "execution_count": 15
        }
      ]
    },
    {
      "cell_type": "code",
      "source": [
        "d.clear()"
      ],
      "metadata": {
        "id": "_sqMu4m5eCFd"
      },
      "execution_count": 16,
      "outputs": []
    },
    {
      "cell_type": "code",
      "source": [
        "d"
      ],
      "metadata": {
        "colab": {
          "base_uri": "https://localhost:8080/"
        },
        "id": "Y_XtMBcveEgN",
        "outputId": "5c08386f-dd72-46ea-a15c-9895f9314204"
      },
      "execution_count": 17,
      "outputs": [
        {
          "output_type": "execute_result",
          "data": {
            "text/plain": [
              "{}"
            ]
          },
          "metadata": {},
          "execution_count": 17
        }
      ]
    }
  ]
}