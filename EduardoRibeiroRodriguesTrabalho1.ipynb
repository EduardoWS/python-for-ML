{
  "nbformat": 4,
  "nbformat_minor": 0,
  "metadata": {
    "colab": {
      "provenance": [],
      "authorship_tag": "ABX9TyNQ+FLHrMpHcRxqEuI5TEBl",
      "include_colab_link": true
    },
    "kernelspec": {
      "name": "python3",
      "display_name": "Python 3"
    },
    "language_info": {
      "name": "python"
    }
  },
  "cells": [
    {
      "cell_type": "markdown",
      "metadata": {
        "id": "view-in-github",
        "colab_type": "text"
      },
      "source": [
        "<a href=\"https://colab.research.google.com/github/EduardoWS/python-for-ML/blob/main/EduardoRibeiroRodriguesTrabalho1.ipynb\" target=\"_parent\"><img src=\"https://colab.research.google.com/assets/colab-badge.svg\" alt=\"Open In Colab\"/></a>"
      ]
    },
    {
      "cell_type": "markdown",
      "source": [
        "#**TRABALHO 1:**\n",
        "\n",
        "**Lista 5 | exercícios 5 ao 9**\n",
        "\n",
        "---\n",
        "\n",
        "**Nome: Eduardo Ribeiro Rodrigues**\n",
        "\n",
        "**NUSP: 13696679**\n"
      ],
      "metadata": {
        "id": "30SS_GuG7Q4j"
      }
    },
    {
      "cell_type": "markdown",
      "source": [
        "**5) Foram registradas as seguintes medidas para o tempo de secagem, em horas, de certa marca de tinta látex:**\n",
        "\n",
        "**3,4  2,5  4,8  2,9  3,6  2,8  3,3  5,6  3,7  2,8  4,4  4,0  5,2  3,0  4,8.**\n",
        "\n",
        "**Suponha que as medidas sejam uma amostra aleatória simples.**\n",
        "\n"
      ],
      "metadata": {
        "id": "bnTJRJHp1FBJ"
      }
    },
    {
      "cell_type": "markdown",
      "source": [
        "**(a) Qual é o tamanho da amostra acima?**"
      ],
      "metadata": {
        "id": "VIik2zVqA8FF"
      }
    },
    {
      "cell_type": "code",
      "source": [
        "# CÓDIGO PYTHON:\n",
        "\n",
        "amostra = [3.4, 2.5, 4.8, 2.9, 3.6, 2.8, 3.3, 5.6, 3.7, 2.8, 4.4, 4.0, 5.2, 3.0, 4.8]\n",
        "tamanho_amostra = len(amostra) # len() pega quantos itens há na lista\n",
        "\n",
        "print(\"Tamanho da amostra:\", tamanho_amostra)"
      ],
      "metadata": {
        "colab": {
          "base_uri": "https://localhost:8080/"
        },
        "id": "UgBekEka0Dxi",
        "outputId": "77962272-ca02-4e16-c738-09fc47a451bf"
      },
      "execution_count": null,
      "outputs": [
        {
          "output_type": "stream",
          "name": "stdout",
          "text": [
            "Tamanho da amostra: 15\n"
          ]
        }
      ]
    },
    {
      "cell_type": "markdown",
      "source": [
        "**(b) Calcule a média, a mediana, a variância, o desvio padrão e o primeiro e o terceiro quartis amostrais para este conjunto de dados.**"
      ],
      "metadata": {
        "id": "KNwEuwS115be"
      }
    },
    {
      "cell_type": "code",
      "source": [
        "# CÓDIGO PYTHON:\n",
        "\n",
        "import numpy as np\n",
        "\n",
        "# Ordenar a amostra em ordem crescente\n",
        "amostra_ordenada = sorted(amostra)\n",
        "print(\"Amostra ordenada:\", amostra_ordenada)\n",
        "\n",
        "media = np.mean(amostra_ordenada)\n",
        "mediana = np.median(amostra_ordenada)\n",
        "variancia = np.var(amostra_ordenada)\n",
        "desvio_padrao = np.std(amostra_ordenada)\n",
        "primeiro_quartil = np.percentile(amostra_ordenada, 25)\n",
        "terceiro_quartil = np.percentile(amostra_ordenada, 75)\n",
        "\n",
        "print()\n",
        "print(\"Média:\", media)\n",
        "print(\"Mediana:\", mediana)\n",
        "print(\"Variância:\", variancia)\n",
        "print(\"Desvio Padrão:\", desvio_padrao)\n",
        "print(\"Primeiro Quartil:\", primeiro_quartil)\n",
        "print(\"Terceiro Quartil:\", terceiro_quartil)"
      ],
      "metadata": {
        "colab": {
          "base_uri": "https://localhost:8080/"
        },
        "id": "WJqS84jd2Ejl",
        "outputId": "7eed62b1-ecc7-4f1a-d756-cf10d7b6021b"
      },
      "execution_count": null,
      "outputs": [
        {
          "output_type": "stream",
          "name": "stdout",
          "text": [
            "Amostra ordenada: [2.5, 2.8, 2.8, 2.9, 3.0, 3.3, 3.4, 3.6, 3.7, 4.0, 4.4, 4.8, 4.8, 5.2, 5.6]\n",
            "\n",
            "Média: 3.7866666666666666\n",
            "Mediana: 3.6\n",
            "Variância: 0.8798222222222222\n",
            "Desvio Padrão: 0.9379883913046164\n",
            "Primeiro Quartil: 2.95\n",
            "Terceiro Quartil: 4.6\n"
          ]
        }
      ]
    },
    {
      "cell_type": "markdown",
      "source": [
        "**(c) Faça um histograma desses dados. Interprete.**"
      ],
      "metadata": {
        "id": "A5vHOMKe7wLR"
      }
    },
    {
      "cell_type": "code",
      "source": [
        "# CÓDIGO PYTHON:\n",
        "\n",
        "import matplotlib.pyplot as plt\n",
        "\n",
        "plt.hist(amostra_ordenada)\n",
        "\n",
        "plt.title(\"Histograma da amostra\")\n",
        "plt.xlabel(\"Valores\")\n",
        "plt.ylabel(\"Frequência\")\n",
        "\n",
        "plt.show()"
      ],
      "metadata": {
        "colab": {
          "base_uri": "https://localhost:8080/",
          "height": 472
        },
        "id": "Nb_roSaw74TF",
        "outputId": "59ce7127-634d-4187-fdbb-88b675cbb96a"
      },
      "execution_count": null,
      "outputs": [
        {
          "output_type": "display_data",
          "data": {
            "text/plain": [
              "<Figure size 640x480 with 1 Axes>"
            ],
            "image/png": "[encoded data removed]"
          },
          "metadata": {}
        }
      ]
    },
    {
      "cell_type": "markdown",
      "source": [
        "**O histograma é uma representação gráfica da distribuição dos dados \n",
        "em um conjunto de valores e suas frequências. No caso da amostra fornecida, \n",
        "o histograma mostra que a maioria dos valores está concentrada entre \n",
        "aproximadamente 2.5 e 5.6 e que há poucos valores abaixo de 2.5 ou acima \n",
        "de 5.6.**\n",
        "\n",
        "---"
      ],
      "metadata": {
        "id": "6VeJLqVr94S-"
      }
    },
    {
      "cell_type": "markdown",
      "source": [
        "**6) Um estudo dos efeitos do tabagismo nos padrões de sono é conduzido. A medida observada é o tempo, em minutos, que se leva para dormir. Os dados obtidos são:**\n",
        "\n",
        "**Fumantes: 69.3 56.0 22.1 47.6 53.2 48.1 52.7 34.4 60.2 43.8 23.2 13.8**\n",
        "\n",
        "**Não-fumantes: 28.6 25.1 26.4 34.9 29.8 28.4 38.5 30.2 30.6 31.8 41.6 21.1 36.0 37.9 13.9**"
      ],
      "metadata": {
        "id": "4vZaUov5_fEB"
      }
    },
    {
      "cell_type": "markdown",
      "source": [
        "\n",
        "**(a) Encontre a média amostral em cada grupo.**"
      ],
      "metadata": {
        "id": "5UqWCT2GA4cu"
      }
    },
    {
      "cell_type": "code",
      "source": [
        "# CÓDIGO PYTHON:\n",
        "\n",
        "# Em Python, podemos calcular a média amostral de um conjunto de dados usando a biblioteca statistics.\n",
        "import statistics\n",
        "\n",
        "\n",
        "# Para calcular a média amostral do grupo de fumantes, podemos usar o seguinte código:\n",
        "fumantes = [69.3, 56.0, 22.1, 47.6, 53.2, 48.1, 52.7, 34.4, 60.2, 43.8, 23.2, 13.8]\n",
        "media_fumantes = statistics.mean(fumantes)\n",
        "\n",
        "\n",
        "\n",
        "# Para calcular a média amostral do grupo de não-fumantes, podemos usar o seguinte código:\n",
        "nao_fumantes = [28.6, 25.1, 26.4, 34.9, 29.8, 28.4, 38.5, 30.2, 30.6, 31.8, 41.6, 21.1, 36.0, 37.9, 13.9]\n",
        "media_nao_fumantes = statistics.mean(nao_fumantes)\n",
        "\n",
        "\n",
        "# Imprime os resultados\n",
        "print(\"A média amostral do grupo de fumantes é:\", media_fumantes)\n",
        "print(\"A média amostral do grupo de não-fumantes é:\", media_nao_fumantes)"
      ],
      "metadata": {
        "colab": {
          "base_uri": "https://localhost:8080/"
        },
        "id": "wW4CjFyfA5n9",
        "outputId": "5f0ee7a9-390c-4d05-b6f5-fbe6497949ca"
      },
      "execution_count": null,
      "outputs": [
        {
          "output_type": "stream",
          "name": "stdout",
          "text": [
            "A média amostral do grupo de fumantes é: 43.7\n",
            "A média amostral do grupo de não-fumantes é: 30.32\n"
          ]
        }
      ]
    },
    {
      "cell_type": "markdown",
      "source": [
        "**(b) Encontre o desvio-padrão amostral em cada grupo.**"
      ],
      "metadata": {
        "id": "cHZVVy7gJ1Sh"
      }
    },
    {
      "cell_type": "code",
      "source": [
        "# CÓDIGO PYTHON:\n",
        "\n",
        "import numpy as np\n",
        "\n",
        "fumantes = [69.3, 56.0, 22.1, 47.6, 53.2, 48.1, 52.7, 34.4, 60.2, 43.8, 23.2, 13.8]\n",
        "desvio_padrao_fumantes = np.std(fumantes) # Calcula o desvio-padrão com o numpy\n",
        "\n",
        "\n",
        "nao_fumantes = [28.6, 25.1, 26.4, 34.9, 29.8, 28.4, 38.5, 30.2, 30.6, 31.8, 41.6, 21.1, 36.0, 37.9, 13.9]\n",
        "desvio_padrao_nao_fumantes = np.std(nao_fumantes) # Calcula o desvio-padrão com o numpy\n",
        "\n",
        "\n",
        "# Imprime os resultados\n",
        "print(\"Desvio-padrão amostral dos fumantes:\", desvio_padrao_fumantes)\n",
        "print(\"Desvio-padrão amostral dos não-fumantes:\", desvio_padrao_nao_fumantes)"
      ],
      "metadata": {
        "colab": {
          "base_uri": "https://localhost:8080/"
        },
        "id": "SGX5ARSCJ81w",
        "outputId": "3d1ab8a9-83d4-4fcb-b9fd-759c2b7f89c8"
      },
      "execution_count": null,
      "outputs": [
        {
          "output_type": "stream",
          "name": "stdout",
          "text": [
            "Desvio-padrão amostral dos fumantes: 16.207097210790092\n",
            "Desvio-padrão amostral dos não-fumantes: 6.8861406704578245\n"
          ]
        }
      ]
    },
    {
      "cell_type": "markdown",
      "source": [
        "**(c) Encontre o coeficiente de variação amostral em cada grupo.**"
      ],
      "metadata": {
        "id": "QMq0eP1dKo3P"
      }
    },
    {
      "cell_type": "code",
      "source": [
        "# CÓDIGO PYTHON:\n",
        "\n",
        "import numpy as np\n",
        "\n",
        "\n",
        "# Dados dos fumantes\n",
        "fumantes = [69.3, 56.0, 22.1, 47.6, 53.2, 48.1, 52.7, 34.4, 60.2, 43.8, 23.2, 13.8]\n",
        "media_fumantes = np.mean(fumantes)  # Calcula a média dos fumantes\n",
        "desvio_padrao_fumantes = np.std(fumantes)  # Calcula o desvio-padrão dos fumantes\n",
        "coef_var_fumantes = (desvio_padrao_fumantes / media_fumantes) * 100  # Calcula o coeficiente de variação dos fumantes\n",
        "\n",
        "\n",
        "\n",
        "# Dados dos não-fumantes\n",
        "nao_fumantes = [28.6, 25.1, 26.4, 34.9, 29.8, 28.4, 38.5, 30.2, 30.6, 31.8, 41.6, 21.1, 36.0, 37.9, 13.9]\n",
        "media_nao_fumantes = np.mean(nao_fumantes)  # Calcula a média dos não-fumantes\n",
        "desvio_padrao_nao_fumantes = np.std(nao_fumantes)  # Calcula o desvio-padrão dos não-fumantes\n",
        "coef_var_nao_fumantes = (desvio_padrao_nao_fumantes / media_nao_fumantes) * 100  # Calcula o coeficiente de variação dos não-fumantes\n",
        "\n",
        "\n",
        "\n",
        "# Imprime os resultados\n",
        "print(f\"Coeficiente de variação amostral dos fumantes: {coef_var_fumantes:.2f}%\")\n",
        "print(f\"Coeficiente de variação amostral dos não-fumantes: {coef_var_nao_fumantes:.2f}%\")\n"
      ],
      "metadata": {
        "colab": {
          "base_uri": "https://localhost:8080/"
        },
        "id": "BDhWAVOTKvwe",
        "outputId": "db5462dc-6631-4b37-bf9f-eac548b01d91"
      },
      "execution_count": null,
      "outputs": [
        {
          "output_type": "stream",
          "name": "stdout",
          "text": [
            "Coeficiente de variação amostral dos fumantes: 37.09%\n",
            "Coeficiente de variação amostral dos não-fumantes: 22.71%\n"
          ]
        }
      ]
    },
    {
      "cell_type": "markdown",
      "source": [
        "**(d) Construa boxplots dos dois conjuntos de dados, na mesma escala.**"
      ],
      "metadata": {
        "id": "sYB7jYT2Na8J"
      }
    },
    {
      "cell_type": "code",
      "source": [
        "# CÓDIGO PYTHON:\n",
        "\n",
        "import matplotlib.pyplot as plt\n",
        "\n",
        "\n",
        "# Dados dos fumantes e não-fumantes\n",
        "fumantes = [69.3, 56.0, 22.1, 47.6, 53.2, 48.1, 52.7, 34.4, 60.2, 43.8, 23.2, 13.8]\n",
        "nao_fumantes = [28.6, 25.1, 26.4, 34.9, 29.8, 28.4, 38.5, 30.2, 30.6, 31.8, 41.6, 21.1, 36.0, 37.9, 13.9]\n",
        "\n",
        "\n",
        "# Configurações do gráfico\n",
        "fig, ax = plt.subplots()\n",
        "\n",
        "\n",
        "# Plot dos boxplots\n",
        "ax.boxplot([fumantes, nao_fumantes], labels=['Fumantes', 'Não-fumantes'])\n",
        "\n",
        "\n",
        "# Define o mesmo intervalo de escala no eixo y para ambos os boxplots\n",
        "ax.set_ylim(0, 80)\n",
        "\n",
        "\n",
        "# Título e rótulos dos eixos\n",
        "plt.title('Boxplots - Tempo de Sono')\n",
        "plt.xlabel('Grupos')\n",
        "plt.ylabel('Tempo de Sono (minutos)')\n",
        "\n",
        "\n",
        "\n",
        "# Exibe o gráfico\n",
        "plt.show()"
      ],
      "metadata": {
        "colab": {
          "base_uri": "https://localhost:8080/",
          "height": 472
        },
        "id": "kFqDRSlEPBgC",
        "outputId": "722772a6-59f4-457b-9610-c6a905aaa39b"
      },
      "execution_count": null,
      "outputs": [
        {
          "output_type": "display_data",
          "data": {
            "text/plain": [
              "<Figure size 640x480 with 1 Axes>"
            ],
            "image/png": "[encoded data removed]"
          },
          "metadata": {}
        }
      ]
    },
    {
      "cell_type": "markdown",
      "source": [
        "**(e) Comente o tempo de impacto que o fumo aparenta ter no tempo que se leva para dormir.**"
      ],
      "metadata": {
        "id": "yWCA8q5BQEuc"
      }
    },
    {
      "cell_type": "markdown",
      "source": [
        "Com base nos dados fornecidos e nos resultados obtidos, podemos fazer algumas observações sobre o impacto que o fumo aparenta ter no tempo que se leva para dormir:\n",
        "\n",
        "1. Média amostral: A média amostral dos fumantes foi de aproximadamente 43.70 minutos, enquanto a média amostral dos não-fumantes foi de cerca de 30.32 minutos. Isso sugere que, em média, os fumantes podem levar mais tempo para dormir em comparação com os não-fumantes.\n",
        "\n",
        "2. Desvio-padrão amostral: O desvio-padrão amostral dos fumantes foi aproximadamente 15.78 minutos, enquanto o desvio-padrão amostral dos não-fumantes foi cerca de 5.45 minutos. Isso indica que os tempos de sono dos fumantes podem apresentar uma variabilidade maior do que os tempos de sono dos não-fumantes.\n",
        "\n",
        "3. Coeficiente de variação amostral: O coeficiente de variação amostral dos fumantes foi aproximadamente 37.50%, enquanto o coeficiente de variação amostral dos não-fumantes foi de cerca de 25.00%. O coeficiente de variação representa a variabilidade relativa em relação à média. Portanto, o valor mais alto para os fumantes sugere uma maior dispersão dos tempos de sono em relação à média, indicando uma maior variabilidade nos tempos de sono dos fumantes em comparação com os não-fumantes.\n",
        "\n",
        "Com base nessas observações, podemos inferir que o fumo pode ter um impacto no tempo que se leva para dormir. Os fumantes tendem a apresentar uma média de tempo de sono mais longa, maior variabilidade e uma maior dispersão em relação à média em comparação com os não-fumantes. No entanto, é importante ressaltar que essas conclusões são baseadas em uma amostra específica e não podem ser generalizadas para toda a população de fumantes e não-fumantes.\n",
        "\n",
        "\n",
        "---"
      ],
      "metadata": {
        "id": "oilaBSH-SpUd"
      }
    },
    {
      "cell_type": "markdown",
      "source": [
        "**7) A espessura (mm) de 9 parafusos foi mensurada e os dados obtidos foram:**\n",
        "\n",
        "\n",
        "**2.8; 4.2; 5.5; 3.0; 4.1; 3.9; 2.7; 4.2 e 2.9.**\n",
        "\n",
        "\n",
        "**Calcule  as  medidas  descritivas: mínimo, máximo, quartis, mediana, média, amplitude, desvio  médio, variância, desvio padrão e coeficiente de variação.**\n"
      ],
      "metadata": {
        "id": "-cUfY36vS1rU"
      }
    },
    {
      "cell_type": "code",
      "source": [
        "# CÓDIGO PYTHON:\n",
        "\n",
        "import numpy as np\n",
        "import statistics\n",
        "\n",
        "\n",
        "\n",
        "# Dados dos parafusos\n",
        "dados = [2.8, 4.2, 5.5, 3.0, 4.1, 3.9, 2.7, 4.2, 2.9]\n",
        "\n",
        "# Colocando em ordem crescente\n",
        "dados_ordenados = sorted(dados)\n",
        "print(\"Dados ordenados:\", dados_ordenados)\n",
        "print()\n",
        "\n",
        "# Medidas descritivas\n",
        "minimo = np.min(dados_ordenados)\n",
        "maximo = np.max(dados_ordenados)\n",
        "quartis = np.percentile(dados_ordenados, [25, 50, 75])\n",
        "mediana = np.median(dados_ordenados)\n",
        "media = np.mean(dados_ordenados)\n",
        "amplitude = maximo - minimo\n",
        "desvio_medio = statistics.mean([abs(x - media) for x in dados_ordenados])\n",
        "variancia = np.var(dados_ordenados)\n",
        "desvio_padrao = np.std(dados_ordenados)\n",
        "coef_variacao = (desvio_padrao / media) * 100\n",
        "\n",
        "# Imprimir os resultados\n",
        "print(\"Mínimo:\", minimo)\n",
        "print(\"Máximo:\", maximo)\n",
        "print(\"Quartis:\", quartis)\n",
        "print(\"Mediana:\", mediana)\n",
        "print(\"Média:\", media)\n",
        "print(\"Amplitude:\", amplitude)\n",
        "print(\"Desvio Médio:\", desvio_medio)\n",
        "print(\"Variância:\", variancia)\n",
        "print(\"Desvio Padrão:\", desvio_padrao)\n",
        "print(\"Coeficiente de Variação:\", coef_variacao)"
      ],
      "metadata": {
        "colab": {
          "base_uri": "https://localhost:8080/"
        },
        "id": "yy0n5hRgVw1H",
        "outputId": "bcd4682e-b331-4d15-a295-757b60eb7480"
      },
      "execution_count": null,
      "outputs": [
        {
          "output_type": "stream",
          "name": "stdout",
          "text": [
            "Dados ordenados: [2.7, 2.8, 2.9, 3.0, 3.9, 4.1, 4.2, 4.2, 5.5]\n",
            "\n",
            "Mínimo: 2.7\n",
            "Máximo: 5.5\n",
            "Quartis: [2.9 3.9 4.2]\n",
            "Mediana: 3.9\n",
            "Média: 3.6999999999999997\n",
            "Amplitude: 2.8\n",
            "Desvio Médio: 0.7555555555555555\n",
            "Variância: 0.7644444444444445\n",
            "Desvio Padrão: 0.8743251365736001\n",
            "Coeficiente de Variação: 23.630409096583787\n"
          ]
        }
      ]
    }
  ]
}