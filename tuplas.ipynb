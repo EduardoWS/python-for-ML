{
  "nbformat": 4,
  "nbformat_minor": 0,
  "metadata": {
    "colab": {
      "provenance": [],
      "authorship_tag": "ABX9TyNJTOor6x2HiiKKSqH590mF",
      "include_colab_link": true
    },
    "kernelspec": {
      "name": "python3",
      "display_name": "Python 3"
    },
    "language_info": {
      "name": "python"
    }
  },
  "cells": [
    {
      "cell_type": "markdown",
      "metadata": {
        "id": "view-in-github",
        "colab_type": "text"
      },
      "source": [
        "<a href=\"https://colab.research.google.com/github/EduardoWS/python-for-ML/blob/main/tuplas.ipynb\" target=\"_parent\"><img src=\"https://colab.research.google.com/assets/colab-badge.svg\" alt=\"Open In Colab\"/></a>"
      ]
    },
    {
      "cell_type": "markdown",
      "source": [
        "# Tuplas em Python"
      ],
      "metadata": {
        "id": "72UV8rBI8BMU"
      }
    },
    {
      "cell_type": "markdown",
      "source": [
        "Tuplas são imutáveis!!!"
      ],
      "metadata": {
        "id": "DAjsNR6fAWVL"
      }
    },
    {
      "cell_type": "code",
      "source": [
        "tupla = (3, 4, 5, 6)\n",
        "type(tupla)"
      ],
      "metadata": {
        "colab": {
          "base_uri": "https://localhost:8080/"
        },
        "id": "MAzukpLABcgY",
        "outputId": "70343f50-6be7-4adf-c760-7db63ab9f2f0"
      },
      "execution_count": 2,
      "outputs": [
        {
          "output_type": "execute_result",
          "data": {
            "text/plain": [
              "tuple"
            ]
          },
          "metadata": {},
          "execution_count": 2
        }
      ]
    },
    {
      "cell_type": "code",
      "source": [
        "lista1 = [3, 4]\n",
        "tupla = tuple(lista1)\n",
        "print(tupla)"
      ],
      "metadata": {
        "colab": {
          "base_uri": "https://localhost:8080/"
        },
        "id": "8WbQvMziAZ1K",
        "outputId": "f57486e4-3dc6-4daf-a09e-ece170d4f9dd"
      },
      "execution_count": 1,
      "outputs": [
        {
          "output_type": "stream",
          "name": "stdout",
          "text": [
            "(3, 4)\n"
          ]
        }
      ]
    },
    {
      "cell_type": "markdown",
      "source": [
        "### Criando uma tupla com apenas um elemento:"
      ],
      "metadata": {
        "id": "DwzY0ZenBiVQ"
      }
    },
    {
      "cell_type": "markdown",
      "source": [
        "Maneira errada:"
      ],
      "metadata": {
        "id": "O-Zd4NoEBysI"
      }
    },
    {
      "cell_type": "code",
      "source": [
        "tupla = (3)\n",
        "type(tupla)"
      ],
      "metadata": {
        "colab": {
          "base_uri": "https://localhost:8080/"
        },
        "id": "9wwmpwNXBozo",
        "outputId": "3ebfa4f3-698a-43c3-fe83-cf6477e7f1da"
      },
      "execution_count": 3,
      "outputs": [
        {
          "output_type": "execute_result",
          "data": {
            "text/plain": [
              "int"
            ]
          },
          "metadata": {},
          "execution_count": 3
        }
      ]
    },
    {
      "cell_type": "markdown",
      "source": [
        "Maneira certa:"
      ],
      "metadata": {
        "id": "qiiKTnrGB3_n"
      }
    },
    {
      "cell_type": "code",
      "source": [
        "tupla = (3, )\n",
        "type(tupla)"
      ],
      "metadata": {
        "colab": {
          "base_uri": "https://localhost:8080/"
        },
        "id": "Gmyi_Qz4B5iX",
        "outputId": "8c916975-090a-43c3-a8cd-67f712d77a21"
      },
      "execution_count": 4,
      "outputs": [
        {
          "output_type": "execute_result",
          "data": {
            "text/plain": [
              "tuple"
            ]
          },
          "metadata": {},
          "execution_count": 4
        }
      ]
    }
  ]
}