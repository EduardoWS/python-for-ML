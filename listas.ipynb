{
  "nbformat": 4,
  "nbformat_minor": 0,
  "metadata": {
    "colab": {
      "provenance": [],
      "authorship_tag": "ABX9TyO8zY8mzcJWUloZnTnK1fEB",
      "include_colab_link": true
    },
    "kernelspec": {
      "name": "python3",
      "display_name": "Python 3"
    },
    "language_info": {
      "name": "python"
    }
  },
  "cells": [
    {
      "cell_type": "markdown",
      "metadata": {
        "id": "view-in-github",
        "colab_type": "text"
      },
      "source": [
        "<a href=\"https://colab.research.google.com/github/EduardoWS/python-for-ML/blob/main/listas.ipynb\" target=\"_parent\"><img src=\"https://colab.research.google.com/assets/colab-badge.svg\" alt=\"Open In Colab\"/></a>"
      ]
    },
    {
      "cell_type": "markdown",
      "source": [
        "# Listas em Python"
      ],
      "metadata": {
        "id": "NpA92eJ56np0"
      }
    },
    {
      "cell_type": "code",
      "execution_count": 1,
      "metadata": {
        "colab": {
          "base_uri": "https://localhost:8080/"
        },
        "id": "IfwIiTPkrmoV",
        "outputId": "e95bc459-a992-44e5-e854-0a6d337e8a06"
      },
      "outputs": [
        {
          "output_type": "execute_result",
          "data": {
            "text/plain": [
              "list"
            ]
          },
          "metadata": {},
          "execution_count": 1
        }
      ],
      "source": [
        "lista1 = [1, 2, 3]\n",
        "type(lista1)"
      ]
    },
    {
      "cell_type": "code",
      "source": [
        "lista2 = [[1, 2, 3], [4, 5, 6], [7, 8, 9]]\n",
        "lista2[0][0]"
      ],
      "metadata": {
        "colab": {
          "base_uri": "https://localhost:8080/"
        },
        "id": "cjrJoZshyUCg",
        "outputId": "06308d1d-01b5-47d2-b252-d381cf625ebd"
      },
      "execution_count": 8,
      "outputs": [
        {
          "output_type": "execute_result",
          "data": {
            "text/plain": [
              "1"
            ]
          },
          "metadata": {},
          "execution_count": 8
        }
      ]
    },
    {
      "cell_type": "code",
      "source": [
        "import random\n",
        "cidades = [\"São Paulo\", \"São Carlos\", \"Florianópolis\", \"Belo Horizonte\"]\n",
        "escolhida = random.choice(cidades)\n",
        "print(\"A cidade escolhida é:\", escolhida)"
      ],
      "metadata": {
        "colab": {
          "base_uri": "https://localhost:8080/"
        },
        "id": "5_gC8gOH1CSi",
        "outputId": "02c68c2f-6877-4bc7-ccef-5942aacc8d2d"
      },
      "execution_count": 16,
      "outputs": [
        {
          "output_type": "stream",
          "name": "stdout",
          "text": [
            "A cidade escolhida é: São Carlos\n"
          ]
        }
      ]
    },
    {
      "cell_type": "code",
      "source": [
        "a = [1, 2, 3]\n",
        "a.append(15)\n",
        "print(a)"
      ],
      "metadata": {
        "colab": {
          "base_uri": "https://localhost:8080/"
        },
        "id": "1qHUCppa2emR",
        "outputId": "225b7014-5f40-46fa-fcbb-a2383532bd5b"
      },
      "execution_count": 17,
      "outputs": [
        {
          "output_type": "stream",
          "name": "stdout",
          "text": [
            "[1, 2, 3, 15]\n"
          ]
        }
      ]
    },
    {
      "cell_type": "code",
      "source": [
        "b = [16, 17, 18]"
      ],
      "metadata": {
        "id": "6KKoXx7Y2t3u"
      },
      "execution_count": 18,
      "outputs": []
    },
    {
      "cell_type": "code",
      "source": [
        "for i in b:\n",
        "  a.append(i)\n",
        "print(a)"
      ],
      "metadata": {
        "colab": {
          "base_uri": "https://localhost:8080/"
        },
        "id": "T00IRer522pl",
        "outputId": "9a6aab14-3be6-4c29-d715-2bd32b9b359a"
      },
      "execution_count": 19,
      "outputs": [
        {
          "output_type": "stream",
          "name": "stdout",
          "text": [
            "[1, 2, 3, 15, 16, 17, 18]\n"
          ]
        }
      ]
    },
    {
      "cell_type": "markdown",
      "source": [
        "# Exercício"
      ],
      "metadata": {
        "id": "-fKia2gW6v7W"
      }
    },
    {
      "cell_type": "markdown",
      "source": [
        "Transformar os elementos da lista x em float"
      ],
      "metadata": {
        "id": "y-o4HqY27EtO"
      }
    },
    {
      "cell_type": "code",
      "source": [
        "x = [2, 4, 6, 10]\n",
        "type(x[0])"
      ],
      "metadata": {
        "colab": {
          "base_uri": "https://localhost:8080/"
        },
        "id": "8pj0OWIZ3yoP",
        "outputId": "4e36be77-4f52-496e-e80d-4b4dfbfa437b"
      },
      "execution_count": 23,
      "outputs": [
        {
          "output_type": "execute_result",
          "data": {
            "text/plain": [
              "int"
            ]
          },
          "metadata": {},
          "execution_count": 23
        }
      ]
    },
    {
      "cell_type": "markdown",
      "source": [
        "Resolução:"
      ],
      "metadata": {
        "id": "I6iObbVf7NKF"
      }
    },
    {
      "cell_type": "code",
      "source": [
        "y = []\n",
        "for i in x:\n",
        "  y.append(float(i))\n",
        "\n",
        "print(y)"
      ],
      "metadata": {
        "colab": {
          "base_uri": "https://localhost:8080/"
        },
        "id": "IUaWEBHI37Yc",
        "outputId": "2693f572-04d2-4b6e-abd6-091edccc8295"
      },
      "execution_count": 22,
      "outputs": [
        {
          "output_type": "stream",
          "name": "stdout",
          "text": [
            "[2.0, 4.0, 6.0, 10.0]\n"
          ]
        }
      ]
    }
  ]
}