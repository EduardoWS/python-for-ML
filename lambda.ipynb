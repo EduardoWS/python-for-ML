{
  "nbformat": 4,
  "nbformat_minor": 0,
  "metadata": {
    "colab": {
      "provenance": [],
      "authorship_tag": "ABX9TyPS/GRKioovuu4MOPq03LSf",
      "include_colab_link": true
    },
    "kernelspec": {
      "name": "python3",
      "display_name": "Python 3"
    },
    "language_info": {
      "name": "python"
    }
  },
  "cells": [
    {
      "cell_type": "markdown",
      "metadata": {
        "id": "view-in-github",
        "colab_type": "text"
      },
      "source": [
        "<a href=\"https://colab.research.google.com/github/EduardoWS/python-for-ML/blob/main/lambda.ipynb\" target=\"_parent\"><img src=\"https://colab.research.google.com/assets/colab-badge.svg\" alt=\"Open In Colab\"/></a>"
      ]
    },
    {
      "cell_type": "markdown",
      "source": [
        "# Função Lambda"
      ],
      "metadata": {
        "id": "wCqR2ziPj4-k"
      }
    },
    {
      "cell_type": "code",
      "source": [
        "#Função normal:\n",
        "\n",
        "def soma(a, b):\n",
        "  result = a**2 + b**2\n",
        "  return result"
      ],
      "metadata": {
        "id": "35-F89kLj8vD"
      },
      "execution_count": 1,
      "outputs": []
    },
    {
      "cell_type": "code",
      "source": [
        "soma(2, 3)"
      ],
      "metadata": {
        "colab": {
          "base_uri": "https://localhost:8080/"
        },
        "id": "0nJvqXckkQaS",
        "outputId": "d5c66fd2-0fcd-4b7b-e602-941f2987873e"
      },
      "execution_count": 2,
      "outputs": [
        {
          "output_type": "execute_result",
          "data": {
            "text/plain": [
              "13"
            ]
          },
          "metadata": {},
          "execution_count": 2
        }
      ]
    },
    {
      "cell_type": "code",
      "source": [
        "#Função Lambda:\n",
        "\n",
        "soma2 = lambda a, b: a**2 + b**2"
      ],
      "metadata": {
        "id": "AGScE_GjkVQS"
      },
      "execution_count": 5,
      "outputs": []
    },
    {
      "cell_type": "code",
      "source": [
        "soma2(2, 3)"
      ],
      "metadata": {
        "colab": {
          "base_uri": "https://localhost:8080/"
        },
        "id": "vZbqRuA_kdta",
        "outputId": "2079e535-048f-49d4-da3e-a5fe4ef60761"
      },
      "execution_count": 6,
      "outputs": [
        {
          "output_type": "execute_result",
          "data": {
            "text/plain": [
              "13"
            ]
          },
          "metadata": {},
          "execution_count": 6
        }
      ]
    },
    {
      "cell_type": "code",
      "source": [
        "#Função Lambda para calcular a hipotenusa:\n",
        "\n",
        "pit = lambda a, b: (a**2 + b**2)**(1/2)"
      ],
      "metadata": {
        "id": "lOBUYu81lFWp"
      },
      "execution_count": 13,
      "outputs": []
    },
    {
      "cell_type": "code",
      "source": [
        "pit(3, 4)"
      ],
      "metadata": {
        "colab": {
          "base_uri": "https://localhost:8080/"
        },
        "id": "aS7DUrytl0Gp",
        "outputId": "13ffda80-f32a-4664-e2da-46e5c22fc068"
      },
      "execution_count": 12,
      "outputs": [
        {
          "output_type": "execute_result",
          "data": {
            "text/plain": [
              "5.0"
            ]
          },
          "metadata": {},
          "execution_count": 12
        }
      ]
    }
  ]
}