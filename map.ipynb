{
  "nbformat": 4,
  "nbformat_minor": 0,
  "metadata": {
    "colab": {
      "provenance": [],
      "authorship_tag": "ABX9TyMP5K95JkMB6BImNQODfaK1",
      "include_colab_link": true
    },
    "kernelspec": {
      "name": "python3",
      "display_name": "Python 3"
    },
    "language_info": {
      "name": "python"
    }
  },
  "cells": [
    {
      "cell_type": "markdown",
      "metadata": {
        "id": "view-in-github",
        "colab_type": "text"
      },
      "source": [
        "<a href=\"https://colab.research.google.com/github/EduardoWS/python-for-ML/blob/main/map.ipynb\" target=\"_parent\"><img src=\"https://colab.research.google.com/assets/colab-badge.svg\" alt=\"Open In Colab\"/></a>"
      ]
    },
    {
      "cell_type": "markdown",
      "source": [
        "# Função map()"
      ],
      "metadata": {
        "id": "3WTLYil0m9r2"
      }
    },
    {
      "cell_type": "code",
      "source": [
        "#Converter as velocidades em kmh para mph:\n",
        "\n",
        "kmh = [36, 60, 90, 110]"
      ],
      "metadata": {
        "id": "8dEQKeqhnFgK"
      },
      "execution_count": 1,
      "outputs": []
    },
    {
      "cell_type": "code",
      "source": [
        "mph =[]\n",
        "for i in kmh:\n",
        "  mph.append(i/1.61)\n",
        "print(mph)"
      ],
      "metadata": {
        "colab": {
          "base_uri": "https://localhost:8080/"
        },
        "id": "wRnPtisMogrx",
        "outputId": "b662d883-45a1-445b-c408-988452459443"
      },
      "execution_count": 2,
      "outputs": [
        {
          "output_type": "stream",
          "name": "stdout",
          "text": [
            "[22.360248447204967, 37.267080745341616, 55.90062111801242, 68.32298136645963]\n"
          ]
        }
      ]
    },
    {
      "cell_type": "code",
      "source": [
        "#Usando a função map:\n",
        "\n",
        "mph2 = list(map(lambda x: x/1.61, kmh))\n",
        "print(mph2)"
      ],
      "metadata": {
        "colab": {
          "base_uri": "https://localhost:8080/"
        },
        "id": "DRhZkE96oro7",
        "outputId": "69348634-56d6-42a4-8eea-bac10a1e1e37"
      },
      "execution_count": 3,
      "outputs": [
        {
          "output_type": "stream",
          "name": "stdout",
          "text": [
            "[22.360248447204967, 37.267080745341616, 55.90062111801242, 68.32298136645963]\n"
          ]
        }
      ]
    }
  ]
}