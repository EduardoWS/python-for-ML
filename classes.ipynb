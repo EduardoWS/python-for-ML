{
  "nbformat": 4,
  "nbformat_minor": 0,
  "metadata": {
    "colab": {
      "provenance": [],
      "authorship_tag": "ABX9TyOWU53NXZLrnkm09hDY/cvV",
      "include_colab_link": true
    },
    "kernelspec": {
      "name": "python3",
      "display_name": "Python 3"
    },
    "language_info": {
      "name": "python"
    }
  },
  "cells": [
    {
      "cell_type": "markdown",
      "metadata": {
        "id": "view-in-github",
        "colab_type": "text"
      },
      "source": [
        "<a href=\"https://colab.research.google.com/github/EduardoWS/python-for-ML/blob/main/classes.ipynb\" target=\"_parent\"><img src=\"https://colab.research.google.com/assets/colab-badge.svg\" alt=\"Open In Colab\"/></a>"
      ]
    },
    {
      "cell_type": "code",
      "execution_count": 5,
      "metadata": {
        "id": "in_bjilcdRsX"
      },
      "outputs": [],
      "source": [
        "#Classes e métodos\n",
        "class DidaticaTech:\n",
        "    def incrementa(self, v, i):\n",
        "        valor = v\n",
        "        incremento = i\n",
        "        resultado = valor + incremento\n",
        "        return resultado"
      ]
    },
    {
      "cell_type": "code",
      "source": [
        "a = DidaticaTech()"
      ],
      "metadata": {
        "id": "Hj8N3BDRf6D7"
      },
      "execution_count": 6,
      "outputs": []
    },
    {
      "cell_type": "code",
      "source": [
        "b = a.incrementa(10, 1)"
      ],
      "metadata": {
        "id": "slr3B3VRhURY"
      },
      "execution_count": 7,
      "outputs": []
    },
    {
      "cell_type": "code",
      "source": [
        "b"
      ],
      "metadata": {
        "colab": {
          "base_uri": "https://localhost:8080/"
        },
        "id": "YS8O9dLLhZ0Y",
        "outputId": "b3ae49b9-6a82-4f09-d7d3-042a6379a030"
      },
      "execution_count": 8,
      "outputs": [
        {
          "output_type": "execute_result",
          "data": {
            "text/plain": [
              "11"
            ]
          },
          "metadata": {},
          "execution_count": 8
        }
      ]
    },
    {
      "cell_type": "code",
      "source": [
        "a = DidaticaTech().incrementa(10, 1)"
      ],
      "metadata": {
        "id": "re_kjTHPqd2Z"
      },
      "execution_count": 9,
      "outputs": []
    },
    {
      "cell_type": "code",
      "source": [
        "a"
      ],
      "metadata": {
        "colab": {
          "base_uri": "https://localhost:8080/"
        },
        "id": "iUQqcOuQqjBZ",
        "outputId": "cd75d07e-92c1-4f80-89de-97ee6bc3120a"
      },
      "execution_count": 10,
      "outputs": [
        {
          "output_type": "execute_result",
          "data": {
            "text/plain": [
              "11"
            ]
          },
          "metadata": {},
          "execution_count": 10
        }
      ]
    },
    {
      "cell_type": "code",
      "source": [
        "class DidaticaTech:\n",
        "    def incrementa(self, v, i):\n",
        "        self.valor = v\n",
        "        self.incremento = i\n",
        "        self.resultado = self.valor + self.incremento\n",
        "        return self.resultado"
      ],
      "metadata": {
        "id": "1XnHYSoNqkHf"
      },
      "execution_count": 15,
      "outputs": []
    },
    {
      "cell_type": "code",
      "source": [
        "a = DidaticaTech()"
      ],
      "metadata": {
        "id": "B7vbMWN-r42o"
      },
      "execution_count": 16,
      "outputs": []
    },
    {
      "cell_type": "code",
      "source": [
        "b = a.incrementa(10, 1)"
      ],
      "metadata": {
        "id": "L5UHUEZkr7MW"
      },
      "execution_count": 17,
      "outputs": []
    },
    {
      "cell_type": "code",
      "source": [
        "b"
      ],
      "metadata": {
        "colab": {
          "base_uri": "https://localhost:8080/"
        },
        "id": "qlNZK0BssAiF",
        "outputId": "6d8850c3-c307-4e10-cc63-9ea484b68189"
      },
      "execution_count": 18,
      "outputs": [
        {
          "output_type": "execute_result",
          "data": {
            "text/plain": [
              "11"
            ]
          },
          "metadata": {},
          "execution_count": 18
        }
      ]
    },
    {
      "cell_type": "code",
      "source": [
        "a.valor"
      ],
      "metadata": {
        "colab": {
          "base_uri": "https://localhost:8080/"
        },
        "id": "XDgv0wHIsBud",
        "outputId": "3cd52457-0f10-46b6-f8f5-a65d60807f3c"
      },
      "execution_count": 19,
      "outputs": [
        {
          "output_type": "execute_result",
          "data": {
            "text/plain": [
              "10"
            ]
          },
          "metadata": {},
          "execution_count": 19
        }
      ]
    },
    {
      "cell_type": "code",
      "source": [
        "class DidaticaTech:\n",
        "    def __init__(self, v: int, i: int):\n",
        "        self.valor = v\n",
        "        self.incremento = i\n",
        "    def incrementa(self):\n",
        "        self.valor = self.valor + self.incremento"
      ],
      "metadata": {
        "id": "XKSNDkymsfjN"
      },
      "execution_count": 20,
      "outputs": []
    },
    {
      "cell_type": "code",
      "source": [
        "a = DidaticaTech(0, 1)"
      ],
      "metadata": {
        "id": "jEmKocf9uuXh"
      },
      "execution_count": 21,
      "outputs": []
    },
    {
      "cell_type": "code",
      "source": [
        "a.incrementa()"
      ],
      "metadata": {
        "id": "3CZ49CDmuzQg"
      },
      "execution_count": 22,
      "outputs": []
    },
    {
      "cell_type": "code",
      "source": [
        "a.valor"
      ],
      "metadata": {
        "colab": {
          "base_uri": "https://localhost:8080/"
        },
        "id": "BBNmoJ72u2A4",
        "outputId": "108c6893-d81b-48a9-b04e-74b757492785"
      },
      "execution_count": 23,
      "outputs": [
        {
          "output_type": "execute_result",
          "data": {
            "text/plain": [
              "1"
            ]
          },
          "metadata": {},
          "execution_count": 23
        }
      ]
    },
    {
      "cell_type": "code",
      "source": [
        "a.incrementa()"
      ],
      "metadata": {
        "id": "4G4EZZhxu4Zg"
      },
      "execution_count": 24,
      "outputs": []
    },
    {
      "cell_type": "code",
      "source": [
        "a.valor"
      ],
      "metadata": {
        "colab": {
          "base_uri": "https://localhost:8080/"
        },
        "id": "dqzEQ5fLu6II",
        "outputId": "2d8355e0-ce73-4798-d71b-4e430a27a8bf"
      },
      "execution_count": 25,
      "outputs": [
        {
          "output_type": "execute_result",
          "data": {
            "text/plain": [
              "2"
            ]
          },
          "metadata": {},
          "execution_count": 25
        }
      ]
    },
    {
      "cell_type": "code",
      "source": [
        "b = DidaticaTech(0, 1)"
      ],
      "metadata": {
        "id": "xHq3Kr30u9TZ"
      },
      "execution_count": 26,
      "outputs": []
    },
    {
      "cell_type": "code",
      "source": [
        "b.incrementa()"
      ],
      "metadata": {
        "id": "k3ouW9-dvFHf"
      },
      "execution_count": 27,
      "outputs": []
    },
    {
      "cell_type": "code",
      "source": [
        "b.valor"
      ],
      "metadata": {
        "colab": {
          "base_uri": "https://localhost:8080/"
        },
        "id": "y6-meLI6vGrv",
        "outputId": "49530738-a311-404f-c709-d2d40c35dd81"
      },
      "execution_count": 29,
      "outputs": [
        {
          "output_type": "execute_result",
          "data": {
            "text/plain": [
              "1"
            ]
          },
          "metadata": {},
          "execution_count": 29
        }
      ]
    },
    {
      "cell_type": "code",
      "source": [
        "class DidaticaTech:\n",
        "    def __init__(self, v=0, i=1):\n",
        "        self.valor = v\n",
        "        self.incremento = i\n",
        "    def incrementa(self):\n",
        "        self.valor = self.valor + self.incremento"
      ],
      "metadata": {
        "id": "ljK1p9ezwroN"
      },
      "execution_count": 30,
      "outputs": []
    },
    {
      "cell_type": "code",
      "source": [
        "a = DidaticaTech()"
      ],
      "metadata": {
        "id": "STsVq_Gyw8N0"
      },
      "execution_count": 34,
      "outputs": []
    },
    {
      "cell_type": "code",
      "source": [
        "a.incrementa()"
      ],
      "metadata": {
        "id": "SQIf2oFpxCT7"
      },
      "execution_count": 35,
      "outputs": []
    },
    {
      "cell_type": "code",
      "source": [
        "a.valor"
      ],
      "metadata": {
        "colab": {
          "base_uri": "https://localhost:8080/"
        },
        "id": "0nu_7lNLxFKE",
        "outputId": "a92b7587-c78b-4c45-dea9-d8ee5fc43855"
      },
      "execution_count": 36,
      "outputs": [
        {
          "output_type": "execute_result",
          "data": {
            "text/plain": [
              "1"
            ]
          },
          "metadata": {},
          "execution_count": 36
        }
      ]
    },
    {
      "cell_type": "code",
      "source": [
        "a = DidaticaTech(10, 2)"
      ],
      "metadata": {
        "id": "ELGgmSLrwx4F"
      },
      "execution_count": 31,
      "outputs": []
    },
    {
      "cell_type": "code",
      "source": [
        "a.incrementa()"
      ],
      "metadata": {
        "id": "3DRjWGFcw06M"
      },
      "execution_count": 32,
      "outputs": []
    },
    {
      "cell_type": "code",
      "source": [
        "a.valor"
      ],
      "metadata": {
        "colab": {
          "base_uri": "https://localhost:8080/"
        },
        "id": "7-xZ6W8hw35N",
        "outputId": "e2d1baea-f169-4d0f-99e3-b163fd8d09d9"
      },
      "execution_count": 33,
      "outputs": [
        {
          "output_type": "execute_result",
          "data": {
            "text/plain": [
              "12"
            ]
          },
          "metadata": {},
          "execution_count": 33
        }
      ]
    },
    {
      "cell_type": "code",
      "source": [
        "# Depois de instanciarmos a = DidaticaTech(), quando executamos a.incrementa(), o que o interpretador está fazendo é:\n",
        "# DidaticaTech().incrementa(a, 10, 1)"
      ],
      "metadata": {
        "id": "O9tGHagDxH80"
      },
      "execution_count": null,
      "outputs": []
    },
    {
      "cell_type": "code",
      "source": [
        "class DidaticaTech:\n",
        "    def __init__(self, v=10, i=1):\n",
        "        self.valor = v\n",
        "        self.incremento = i\n",
        "        self.valor_exponencial = v\n",
        "    def incrementa(self):\n",
        "        self.valor = self.valor + self.incremento\n",
        "    def verifica(self):\n",
        "        if self.valor > 12:\n",
        "            print(\"Ultrapassou 12\")\n",
        "        else:\n",
        "            print(\"Não ultrapassou 12\")\n",
        "    def exponencial(self, e):\n",
        "        self.valor_exponencial = self.valor**e\n",
        "    def incrementa_quadrado(self):\n",
        "        self.incrementa()\n",
        "        self.exponencial(2)"
      ],
      "metadata": {
        "id": "hCa9o2BtynVZ"
      },
      "execution_count": 49,
      "outputs": []
    },
    {
      "cell_type": "code",
      "source": [
        "a = DidaticaTech()"
      ],
      "metadata": {
        "id": "O0_UVK683sI4"
      },
      "execution_count": 38,
      "outputs": []
    },
    {
      "cell_type": "code",
      "source": [
        "a.incrementa()"
      ],
      "metadata": {
        "id": "OP9ZFybU4gGI"
      },
      "execution_count": 39,
      "outputs": []
    },
    {
      "cell_type": "code",
      "source": [
        "a.valor"
      ],
      "metadata": {
        "colab": {
          "base_uri": "https://localhost:8080/"
        },
        "id": "_mLRom0z4iGH",
        "outputId": "20d336b3-683d-4e33-a6d9-7b9d4f834469"
      },
      "execution_count": 40,
      "outputs": [
        {
          "output_type": "execute_result",
          "data": {
            "text/plain": [
              "11"
            ]
          },
          "metadata": {},
          "execution_count": 40
        }
      ]
    },
    {
      "cell_type": "code",
      "source": [
        "a.verifica()"
      ],
      "metadata": {
        "colab": {
          "base_uri": "https://localhost:8080/"
        },
        "id": "jnYIdQuW4j7u",
        "outputId": "c53adfc2-d2fc-4463-dca8-18518b5433b3"
      },
      "execution_count": 41,
      "outputs": [
        {
          "output_type": "stream",
          "name": "stdout",
          "text": [
            "Não ultrapassou 12\n"
          ]
        }
      ]
    },
    {
      "cell_type": "code",
      "source": [
        "a.exponencial(3)"
      ],
      "metadata": {
        "id": "5FDNxXXp4ohm"
      },
      "execution_count": 42,
      "outputs": []
    },
    {
      "cell_type": "code",
      "source": [
        "a.valor_exponencial"
      ],
      "metadata": {
        "colab": {
          "base_uri": "https://localhost:8080/"
        },
        "id": "y58SO6vu4tFG",
        "outputId": "d16eb36f-132c-4b81-dd6a-c0670118fb52"
      },
      "execution_count": 43,
      "outputs": [
        {
          "output_type": "execute_result",
          "data": {
            "text/plain": [
              "1331"
            ]
          },
          "metadata": {},
          "execution_count": 43
        }
      ]
    },
    {
      "cell_type": "code",
      "source": [
        "a.incrementa_quadrado()"
      ],
      "metadata": {
        "id": "EXUAPz_742mm"
      },
      "execution_count": 44,
      "outputs": []
    },
    {
      "cell_type": "code",
      "source": [
        "a.valor"
      ],
      "metadata": {
        "colab": {
          "base_uri": "https://localhost:8080/"
        },
        "id": "f0vBHd6d5P-n",
        "outputId": "71933176-aa13-4007-97f4-879b3e779ff7"
      },
      "execution_count": 45,
      "outputs": [
        {
          "output_type": "execute_result",
          "data": {
            "text/plain": [
              "12"
            ]
          },
          "metadata": {},
          "execution_count": 45
        }
      ]
    },
    {
      "cell_type": "code",
      "source": [
        "a.valor_exponencial"
      ],
      "metadata": {
        "colab": {
          "base_uri": "https://localhost:8080/"
        },
        "id": "-8c1RLdD5RHl",
        "outputId": "9b6144bc-a4e7-4d9b-eaf2-5faedd085faa"
      },
      "execution_count": 46,
      "outputs": [
        {
          "output_type": "execute_result",
          "data": {
            "text/plain": [
              "144"
            ]
          },
          "metadata": {},
          "execution_count": 46
        }
      ]
    },
    {
      "cell_type": "code",
      "source": [
        "# Herança\n",
        "class Calculos(DidaticaTech):\n",
        "    pass"
      ],
      "metadata": {
        "id": "BxxW9HmB5S5N"
      },
      "execution_count": 55,
      "outputs": []
    },
    {
      "cell_type": "code",
      "source": [
        "c = Calculos()"
      ],
      "metadata": {
        "id": "2rzzkjh66u4E"
      },
      "execution_count": 56,
      "outputs": []
    },
    {
      "cell_type": "code",
      "source": [
        "c.incrementa()"
      ],
      "metadata": {
        "id": "IHl5olZu74Wx"
      },
      "execution_count": 57,
      "outputs": []
    },
    {
      "cell_type": "code",
      "source": [
        "c.valor"
      ],
      "metadata": {
        "colab": {
          "base_uri": "https://localhost:8080/"
        },
        "id": "-S6d49R_9HYP",
        "outputId": "2a445a24-8e92-492f-9f01-81191e3bdeb6"
      },
      "execution_count": 58,
      "outputs": [
        {
          "output_type": "execute_result",
          "data": {
            "text/plain": [
              "11"
            ]
          },
          "metadata": {},
          "execution_count": 58
        }
      ]
    },
    {
      "cell_type": "code",
      "source": [
        "class Calculos(DidaticaTech):\n",
        "    def decrementa(self):\n",
        "        self.valor = self.valor - self.incremento"
      ],
      "metadata": {
        "id": "uAA7qoA09KKW"
      },
      "execution_count": 59,
      "outputs": []
    },
    {
      "cell_type": "code",
      "source": [
        "c = Calculos()"
      ],
      "metadata": {
        "id": "Ib2aUfK59Vgm"
      },
      "execution_count": 60,
      "outputs": []
    },
    {
      "cell_type": "code",
      "source": [
        "c.incrementa()"
      ],
      "metadata": {
        "id": "00assX0E9Ydn"
      },
      "execution_count": 61,
      "outputs": []
    },
    {
      "cell_type": "code",
      "source": [
        "c.valor"
      ],
      "metadata": {
        "colab": {
          "base_uri": "https://localhost:8080/"
        },
        "id": "tf2iPWZY9aUe",
        "outputId": "abe9a3fc-2bd9-4a7e-9f66-b378882cd5ac"
      },
      "execution_count": 62,
      "outputs": [
        {
          "output_type": "execute_result",
          "data": {
            "text/plain": [
              "11"
            ]
          },
          "metadata": {},
          "execution_count": 62
        }
      ]
    },
    {
      "cell_type": "code",
      "source": [
        "c.decrementa()"
      ],
      "metadata": {
        "id": "cO8t5Il79b2-"
      },
      "execution_count": 63,
      "outputs": []
    },
    {
      "cell_type": "code",
      "source": [
        "c.valor"
      ],
      "metadata": {
        "colab": {
          "base_uri": "https://localhost:8080/"
        },
        "id": "oZIrUm4z9di4",
        "outputId": "e63c777b-9c4d-474c-c14a-4400d95e8d51"
      },
      "execution_count": 65,
      "outputs": [
        {
          "output_type": "execute_result",
          "data": {
            "text/plain": [
              "10"
            ]
          },
          "metadata": {},
          "execution_count": 65
        }
      ]
    },
    {
      "cell_type": "code",
      "source": [
        "# Dessa forma o __init__ substituirá o __init__ da classe DidaticaTech:\n",
        "class Calculos(DidaticaTech):\n",
        "    def __init__(self, d=5):\n",
        "        self.divisor = d\n",
        "    def decrementa(self):\n",
        "        self.valor = self.valor - self.incremento\n",
        "    def divide(self):\n",
        "        self.valor = self.valor/self.divisor"
      ],
      "metadata": {
        "id": "39F1_bAK-Y_8"
      },
      "execution_count": 68,
      "outputs": []
    },
    {
      "cell_type": "code",
      "source": [
        "c = Calculos()"
      ],
      "metadata": {
        "id": "nkliiVXo-_Al"
      },
      "execution_count": 69,
      "outputs": []
    },
    {
      "cell_type": "code",
      "source": [
        "# Observe o erro:\n",
        "c.incrementa()"
      ],
      "metadata": {
        "colab": {
          "base_uri": "https://localhost:8080/",
          "height": 304
        },
        "id": "8UcGQCc__BSy",
        "outputId": "832cc640-d69a-48c0-bf84-fa3ee2903b1c"
      },
      "execution_count": 70,
      "outputs": [
        {
          "output_type": "error",
          "ename": "AttributeError",
          "evalue": "ignored",
          "traceback": [
            "\u001b[0;31m---------------------------------------------------------------------------\u001b[0m",
            "\u001b[0;31mAttributeError\u001b[0m                            Traceback (most recent call last)",
            "\u001b[0;32m<ipython-input-70-642d3d71b401>\u001b[0m in \u001b[0;36m<module>\u001b[0;34m\u001b[0m\n\u001b[1;32m      1\u001b[0m \u001b[0;31m# Observe o erro:\u001b[0m\u001b[0;34m\u001b[0m\u001b[0;34m\u001b[0m\u001b[0m\n\u001b[0;32m----> 2\u001b[0;31m \u001b[0mc\u001b[0m\u001b[0;34m.\u001b[0m\u001b[0mincrementa\u001b[0m\u001b[0;34m(\u001b[0m\u001b[0;34m)\u001b[0m\u001b[0;34m\u001b[0m\u001b[0;34m\u001b[0m\u001b[0m\n\u001b[0m",
            "\u001b[0;32m<ipython-input-49-c7de90b56d9d>\u001b[0m in \u001b[0;36mincrementa\u001b[0;34m(self)\u001b[0m\n\u001b[1;32m      5\u001b[0m         \u001b[0mself\u001b[0m\u001b[0;34m.\u001b[0m\u001b[0mvalor_exponencial\u001b[0m \u001b[0;34m=\u001b[0m \u001b[0mv\u001b[0m\u001b[0;34m\u001b[0m\u001b[0;34m\u001b[0m\u001b[0m\n\u001b[1;32m      6\u001b[0m     \u001b[0;32mdef\u001b[0m \u001b[0mincrementa\u001b[0m\u001b[0;34m(\u001b[0m\u001b[0mself\u001b[0m\u001b[0;34m)\u001b[0m\u001b[0;34m:\u001b[0m\u001b[0;34m\u001b[0m\u001b[0;34m\u001b[0m\u001b[0m\n\u001b[0;32m----> 7\u001b[0;31m         \u001b[0mself\u001b[0m\u001b[0;34m.\u001b[0m\u001b[0mvalor\u001b[0m \u001b[0;34m=\u001b[0m \u001b[0mself\u001b[0m\u001b[0;34m.\u001b[0m\u001b[0mvalor\u001b[0m \u001b[0;34m+\u001b[0m \u001b[0mself\u001b[0m\u001b[0;34m.\u001b[0m\u001b[0mincremento\u001b[0m\u001b[0;34m\u001b[0m\u001b[0;34m\u001b[0m\u001b[0m\n\u001b[0m\u001b[1;32m      8\u001b[0m     \u001b[0;32mdef\u001b[0m \u001b[0mverifica\u001b[0m\u001b[0;34m(\u001b[0m\u001b[0mself\u001b[0m\u001b[0;34m)\u001b[0m\u001b[0;34m:\u001b[0m\u001b[0;34m\u001b[0m\u001b[0;34m\u001b[0m\u001b[0m\n\u001b[1;32m      9\u001b[0m         \u001b[0;32mif\u001b[0m \u001b[0mself\u001b[0m\u001b[0;34m.\u001b[0m\u001b[0mvalor\u001b[0m \u001b[0;34m>\u001b[0m \u001b[0;36m12\u001b[0m\u001b[0;34m:\u001b[0m\u001b[0;34m\u001b[0m\u001b[0;34m\u001b[0m\u001b[0m\n",
            "\u001b[0;31mAttributeError\u001b[0m: 'Calculos' object has no attribute 'valor'"
          ]
        }
      ]
    },
    {
      "cell_type": "code",
      "source": [
        "# Maneira correta de herdar com o __init__:\n",
        "class Calculos(DidaticaTech):\n",
        "    def __init__(self, d=5):\n",
        "        super().__init__(v=10, i=1)\n",
        "        self.divisor = d\n",
        "    def decrementa(self):\n",
        "        self.valor = self.valor - self.incremento\n",
        "    def divide(self):\n",
        "        self.valor = self.valor/self.divisor"
      ],
      "metadata": {
        "id": "ci7k44HW_MKy"
      },
      "execution_count": 73,
      "outputs": []
    },
    {
      "cell_type": "code",
      "source": [
        "c = Calculos()"
      ],
      "metadata": {
        "id": "-KzyiabAA8UC"
      },
      "execution_count": 74,
      "outputs": []
    },
    {
      "cell_type": "code",
      "source": [
        "c.incrementa()"
      ],
      "metadata": {
        "id": "mk6D8e0gBP8w"
      },
      "execution_count": 75,
      "outputs": []
    },
    {
      "cell_type": "code",
      "source": [
        "c.valor"
      ],
      "metadata": {
        "colab": {
          "base_uri": "https://localhost:8080/"
        },
        "id": "jxAjMOEHBR6f",
        "outputId": "7dd5d772-8acc-4ec6-f36c-ab21c155e1c9"
      },
      "execution_count": 76,
      "outputs": [
        {
          "output_type": "execute_result",
          "data": {
            "text/plain": [
              "11"
            ]
          },
          "metadata": {},
          "execution_count": 76
        }
      ]
    },
    {
      "cell_type": "code",
      "source": [
        "c.decrementa()"
      ],
      "metadata": {
        "id": "E14pBKuSBw1m"
      },
      "execution_count": 77,
      "outputs": []
    },
    {
      "cell_type": "code",
      "source": [
        "c.divide()"
      ],
      "metadata": {
        "id": "Mby6qanZByVX"
      },
      "execution_count": 78,
      "outputs": []
    },
    {
      "cell_type": "code",
      "source": [
        "c.valor"
      ],
      "metadata": {
        "colab": {
          "base_uri": "https://localhost:8080/"
        },
        "id": "jx-a18TBB0Zd",
        "outputId": "add029fe-cfe0-441b-9992-faa1c25af2f2"
      },
      "execution_count": 79,
      "outputs": [
        {
          "output_type": "execute_result",
          "data": {
            "text/plain": [
              "2.0"
            ]
          },
          "metadata": {},
          "execution_count": 79
        }
      ]
    }
  ]
}