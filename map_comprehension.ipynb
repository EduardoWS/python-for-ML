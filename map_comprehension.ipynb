{
  "nbformat": 4,
  "nbformat_minor": 0,
  "metadata": {
    "colab": {
      "provenance": [],
      "authorship_tag": "ABX9TyO9Iw0oEBOJmoHggHNF/F48",
      "include_colab_link": true
    },
    "kernelspec": {
      "name": "python3",
      "display_name": "Python 3"
    },
    "language_info": {
      "name": "python"
    }
  },
  "cells": [
    {
      "cell_type": "markdown",
      "metadata": {
        "id": "view-in-github",
        "colab_type": "text"
      },
      "source": [
        "<a href=\"https://colab.research.google.com/github/EduardoWS/python-for-ML/blob/main/map_comprehension.ipynb\" target=\"_parent\"><img src=\"https://colab.research.google.com/assets/colab-badge.svg\" alt=\"Open In Colab\"/></a>"
      ]
    },
    {
      "cell_type": "markdown",
      "source": [
        "# Função map()"
      ],
      "metadata": {
        "id": "3WTLYil0m9r2"
      }
    },
    {
      "cell_type": "code",
      "source": [
        "#Converter as velocidades em kmh para mph:\n",
        "\n",
        "kmh = [36, 60, 90, 110]"
      ],
      "metadata": {
        "id": "8dEQKeqhnFgK"
      },
      "execution_count": null,
      "outputs": []
    },
    {
      "cell_type": "code",
      "source": [
        "mph =[]\n",
        "for i in kmh:\n",
        "  mph.append(i/1.61)\n",
        "print(mph)"
      ],
      "metadata": {
        "colab": {
          "base_uri": "https://localhost:8080/"
        },
        "id": "wRnPtisMogrx",
        "outputId": "b662d883-45a1-445b-c408-988452459443"
      },
      "execution_count": null,
      "outputs": [
        {
          "output_type": "stream",
          "name": "stdout",
          "text": [
            "[22.360248447204967, 37.267080745341616, 55.90062111801242, 68.32298136645963]\n"
          ]
        }
      ]
    },
    {
      "cell_type": "code",
      "source": [
        "#Usando a função map:\n",
        "\n",
        "mph2 = list(map(lambda x: x/1.61, kmh))\n",
        "print(mph2)"
      ],
      "metadata": {
        "colab": {
          "base_uri": "https://localhost:8080/"
        },
        "id": "DRhZkE96oro7",
        "outputId": "69348634-56d6-42a4-8eea-bac10a1e1e37"
      },
      "execution_count": null,
      "outputs": [
        {
          "output_type": "stream",
          "name": "stdout",
          "text": [
            "[22.360248447204967, 37.267080745341616, 55.90062111801242, 68.32298136645963]\n"
          ]
        }
      ]
    },
    {
      "cell_type": "markdown",
      "source": [
        "#List Comprehension"
      ],
      "metadata": {
        "id": "3ATUNeSm2yhb"
      }
    },
    {
      "cell_type": "code",
      "source": [
        "mph3 = [x/1.61 for x in kmh]\n",
        "print(mph3)"
      ],
      "metadata": {
        "colab": {
          "base_uri": "https://localhost:8080/"
        },
        "id": "h-WrHQ5H25-x",
        "outputId": "18660f56-8e49-4b02-b9e8-b8217d6d400e"
      },
      "execution_count": 4,
      "outputs": [
        {
          "output_type": "stream",
          "name": "stdout",
          "text": [
            "[22.360248447204967, 37.267080745341616, 55.90062111801242, 68.32298136645963]\n"
          ]
        }
      ]
    },
    {
      "cell_type": "code",
      "source": [
        "caracteres = [i for i in \"Somos apenas esse momento\"]\n",
        "print(caracteres)"
      ],
      "metadata": {
        "colab": {
          "base_uri": "https://localhost:8080/"
        },
        "id": "dk_tisE63ECi",
        "outputId": "7fdd3d47-eed3-4ce7-9d8c-7b07db46a12f"
      },
      "execution_count": 5,
      "outputs": [
        {
          "output_type": "stream",
          "name": "stdout",
          "text": [
            "['S', 'o', 'm', 'o', 's', ' ', 'a', 'p', 'e', 'n', 'a', 's', ' ', 'e', 's', 's', 'e', ' ', 'm', 'o', 'm', 'e', 'n', 't', 'o']\n"
          ]
        }
      ]
    }
  ]
}